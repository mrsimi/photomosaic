{
 "cells": [
  {
   "cell_type": "code",
   "execution_count": 7,
   "metadata": {},
   "outputs": [],
   "source": [
    "import cv2\n",
    "import numpy as np\n",
    "import os\n",
    "import imutils\n",
    "\n",
    "# Load the large image\n",
    "large_image = cv2.imread('large.jpg')\n",
    "large_image = imutils.resize(large_image, width=4096)\n",
    "\n",
    "# Directory containing tile images\n",
    "tile_dir = 'tiles_images/'\n",
    "tile_images = [cv2.imread(os.path.join(tile_dir, img)) for img in os.listdir(tile_dir)]\n"
   ]
  },
  {
   "cell_type": "code",
   "execution_count": 8,
   "metadata": {},
   "outputs": [],
   "source": [
    "def caltilesize(large_image, num_horizontal_tiles, num_vertical_tiles):\n",
    "    print(large_image.shape)\n",
    "    rectangle_height = large_image.shape[0]\n",
    "    rectangle_width = large_image.shape[1]\n",
    "    tile_width = rectangle_width / num_horizontal_tiles\n",
    "    tile_height = rectangle_height / num_vertical_tiles\n",
    "\n",
    "    return int(tile_width), int(tile_height)"
   ]
  },
  {
   "cell_type": "code",
   "execution_count": 9,
   "metadata": {},
   "outputs": [
    {
     "name": "stdout",
     "output_type": "stream",
     "text": [
      "(5529, 4096, 3)\n"
     ]
    },
    {
     "data": {
      "text/plain": [
       "(409, 552)"
      ]
     },
     "execution_count": 9,
     "metadata": {},
     "output_type": "execute_result"
    }
   ],
   "source": [
    "tile_size = caltilesize(large_image, 10, 10)\n",
    "tile_size"
   ]
  },
  {
   "cell_type": "code",
   "execution_count": 10,
   "metadata": {},
   "outputs": [],
   "source": [
    "def color_match_and_blend(region, tile):\n",
    "        # Resize the tile to match the size of the region\n",
    "        tile_resized = cv2.resize(tile, (region.shape[1], region.shape[0]))\n",
    "        \n",
    "        # Compute the average color of the region and resized tile\n",
    "        region_avg_color = np.mean(region, axis=(0, 1))\n",
    "        tile_avg_color = np.mean(tile_resized, axis=(0, 1))\n",
    "        \n",
    "        # Calculate the color difference between region and resized tile\n",
    "        color_diff = np.linalg.norm(region_avg_color - tile_avg_color)\n",
    "        \n",
    "        # Blend the region and resized tile based on color similarity\n",
    "        alpha = 1.0 - (color_diff / 255.0)  # Adjust alpha based on color difference\n",
    "        blended_region = cv2.addWeighted(region, alpha, tile_resized, 1.0 - alpha, 0)\n",
    "        \n",
    "        return blended_region"
   ]
  },
  {
   "cell_type": "code",
   "execution_count": 11,
   "metadata": {},
   "outputs": [],
   "source": [
    "def crop_image(image, crop_width, crop_height):\n",
    "        max_resize = max(crop_height, crop_width, image.shape[0],image.shape[1])\n",
    "        # if max_resize < crop_height or max_resize < crop_width:\n",
    "        #     max_resize = 2 * max_resize\n",
    "        image = imutils.resize(image, width=max_resize)\n",
    "\n",
    "        image_height, image_width = image.shape[:2]\n",
    "        start_x = (image_width - crop_width) // 2\n",
    "        end_x = start_x + crop_width\n",
    "        start_y = (image_height - crop_height) // 2\n",
    "        end_y = start_y + crop_height\n",
    "        cropped_image = image[start_y:end_y, start_x:end_x]\n",
    "        return cropped_image"
   ]
  },
  {
   "cell_type": "code",
   "execution_count": 13,
   "metadata": {},
   "outputs": [
    {
     "ename": "AxisError",
     "evalue": "axis 0 is out of bounds for array of dimension 0",
     "output_type": "error",
     "traceback": [
      "\u001b[0;31m---------------------------------------------------------------------------\u001b[0m",
      "\u001b[0;31mAxisError\u001b[0m                                 Traceback (most recent call last)",
      "Cell \u001b[0;32mIn[13], line 16\u001b[0m\n\u001b[1;32m     13\u001b[0m best_tiles \u001b[38;5;241m=\u001b[39m []\n\u001b[1;32m     15\u001b[0m \u001b[38;5;28;01mfor\u001b[39;00m tile \u001b[38;5;129;01min\u001b[39;00m tile_images:\n\u001b[0;32m---> 16\u001b[0m     tile_avg_color \u001b[38;5;241m=\u001b[39m \u001b[43mnp\u001b[49m\u001b[38;5;241;43m.\u001b[39;49m\u001b[43mmean\u001b[49m\u001b[43m(\u001b[49m\u001b[43mtile\u001b[49m\u001b[43m,\u001b[49m\u001b[43m \u001b[49m\u001b[43maxis\u001b[49m\u001b[38;5;241;43m=\u001b[39;49m\u001b[43m(\u001b[49m\u001b[38;5;241;43m0\u001b[39;49m\u001b[43m,\u001b[49m\u001b[43m \u001b[49m\u001b[38;5;241;43m1\u001b[39;49m\u001b[43m)\u001b[49m\u001b[43m)\u001b[49m\n\u001b[1;32m     17\u001b[0m     color_diff \u001b[38;5;241m=\u001b[39m np\u001b[38;5;241m.\u001b[39mlinalg\u001b[38;5;241m.\u001b[39mnorm(region_avg_color \u001b[38;5;241m-\u001b[39m tile_avg_color)\n\u001b[1;32m     19\u001b[0m             \u001b[38;5;66;03m# Update min_diffs and best_tiles with top three minimum differences and corresponding tiles\u001b[39;00m\n",
      "File \u001b[0;32m<__array_function__ internals>:200\u001b[0m, in \u001b[0;36mmean\u001b[0;34m(*args, **kwargs)\u001b[0m\n",
      "File \u001b[0;32m/opt/homebrew/lib/python3.11/site-packages/numpy/core/fromnumeric.py:3464\u001b[0m, in \u001b[0;36mmean\u001b[0;34m(a, axis, dtype, out, keepdims, where)\u001b[0m\n\u001b[1;32m   3461\u001b[0m     \u001b[38;5;28;01melse\u001b[39;00m:\n\u001b[1;32m   3462\u001b[0m         \u001b[38;5;28;01mreturn\u001b[39;00m mean(axis\u001b[38;5;241m=\u001b[39maxis, dtype\u001b[38;5;241m=\u001b[39mdtype, out\u001b[38;5;241m=\u001b[39mout, \u001b[38;5;241m*\u001b[39m\u001b[38;5;241m*\u001b[39mkwargs)\n\u001b[0;32m-> 3464\u001b[0m \u001b[38;5;28;01mreturn\u001b[39;00m \u001b[43m_methods\u001b[49m\u001b[38;5;241;43m.\u001b[39;49m\u001b[43m_mean\u001b[49m\u001b[43m(\u001b[49m\u001b[43ma\u001b[49m\u001b[43m,\u001b[49m\u001b[43m \u001b[49m\u001b[43maxis\u001b[49m\u001b[38;5;241;43m=\u001b[39;49m\u001b[43maxis\u001b[49m\u001b[43m,\u001b[49m\u001b[43m \u001b[49m\u001b[43mdtype\u001b[49m\u001b[38;5;241;43m=\u001b[39;49m\u001b[43mdtype\u001b[49m\u001b[43m,\u001b[49m\n\u001b[1;32m   3465\u001b[0m \u001b[43m                      \u001b[49m\u001b[43mout\u001b[49m\u001b[38;5;241;43m=\u001b[39;49m\u001b[43mout\u001b[49m\u001b[43m,\u001b[49m\u001b[43m \u001b[49m\u001b[38;5;241;43m*\u001b[39;49m\u001b[38;5;241;43m*\u001b[39;49m\u001b[43mkwargs\u001b[49m\u001b[43m)\u001b[49m\n",
      "File \u001b[0;32m/opt/homebrew/lib/python3.11/site-packages/numpy/core/_methods.py:169\u001b[0m, in \u001b[0;36m_mean\u001b[0;34m(a, axis, dtype, out, keepdims, where)\u001b[0m\n\u001b[1;32m    165\u001b[0m arr \u001b[38;5;241m=\u001b[39m asanyarray(a)\n\u001b[1;32m    167\u001b[0m is_float16_result \u001b[38;5;241m=\u001b[39m \u001b[38;5;28;01mFalse\u001b[39;00m\n\u001b[0;32m--> 169\u001b[0m rcount \u001b[38;5;241m=\u001b[39m \u001b[43m_count_reduce_items\u001b[49m\u001b[43m(\u001b[49m\u001b[43marr\u001b[49m\u001b[43m,\u001b[49m\u001b[43m \u001b[49m\u001b[43maxis\u001b[49m\u001b[43m,\u001b[49m\u001b[43m \u001b[49m\u001b[43mkeepdims\u001b[49m\u001b[38;5;241;43m=\u001b[39;49m\u001b[43mkeepdims\u001b[49m\u001b[43m,\u001b[49m\u001b[43m \u001b[49m\u001b[43mwhere\u001b[49m\u001b[38;5;241;43m=\u001b[39;49m\u001b[43mwhere\u001b[49m\u001b[43m)\u001b[49m\n\u001b[1;32m    170\u001b[0m \u001b[38;5;28;01mif\u001b[39;00m rcount \u001b[38;5;241m==\u001b[39m \u001b[38;5;241m0\u001b[39m \u001b[38;5;28;01mif\u001b[39;00m where \u001b[38;5;129;01mis\u001b[39;00m \u001b[38;5;28;01mTrue\u001b[39;00m \u001b[38;5;28;01melse\u001b[39;00m umr_any(rcount \u001b[38;5;241m==\u001b[39m \u001b[38;5;241m0\u001b[39m, axis\u001b[38;5;241m=\u001b[39m\u001b[38;5;28;01mNone\u001b[39;00m):\n\u001b[1;32m    171\u001b[0m     warnings\u001b[38;5;241m.\u001b[39mwarn(\u001b[38;5;124m\"\u001b[39m\u001b[38;5;124mMean of empty slice.\u001b[39m\u001b[38;5;124m\"\u001b[39m, \u001b[38;5;167;01mRuntimeWarning\u001b[39;00m, stacklevel\u001b[38;5;241m=\u001b[39m\u001b[38;5;241m2\u001b[39m)\n",
      "File \u001b[0;32m/opt/homebrew/lib/python3.11/site-packages/numpy/core/_methods.py:77\u001b[0m, in \u001b[0;36m_count_reduce_items\u001b[0;34m(arr, axis, keepdims, where)\u001b[0m\n\u001b[1;32m     75\u001b[0m     items \u001b[38;5;241m=\u001b[39m \u001b[38;5;241m1\u001b[39m\n\u001b[1;32m     76\u001b[0m     \u001b[38;5;28;01mfor\u001b[39;00m ax \u001b[38;5;129;01min\u001b[39;00m axis:\n\u001b[0;32m---> 77\u001b[0m         items \u001b[38;5;241m*\u001b[39m\u001b[38;5;241m=\u001b[39m arr\u001b[38;5;241m.\u001b[39mshape[mu\u001b[38;5;241m.\u001b[39mnormalize_axis_index(ax, arr\u001b[38;5;241m.\u001b[39mndim)]\n\u001b[1;32m     78\u001b[0m     items \u001b[38;5;241m=\u001b[39m nt\u001b[38;5;241m.\u001b[39mintp(items)\n\u001b[1;32m     79\u001b[0m \u001b[38;5;28;01melse\u001b[39;00m:\n\u001b[1;32m     80\u001b[0m     \u001b[38;5;66;03m# TODO: Optimize case when `where` is broadcast along a non-reduction\u001b[39;00m\n\u001b[1;32m     81\u001b[0m     \u001b[38;5;66;03m# axis and full sum is more excessive than needed.\u001b[39;00m\n\u001b[1;32m     82\u001b[0m \n\u001b[1;32m     83\u001b[0m     \u001b[38;5;66;03m# guarded to protect circular imports\u001b[39;00m\n",
      "\u001b[0;31mAxisError\u001b[0m: axis 0 is out of bounds for array of dimension 0"
     ]
    }
   ],
   "source": [
    "import random \n",
    "import imutils\n",
    "\n",
    "mosaic = np.zeros_like(large_image)\n",
    "used_tiles = []\n",
    "used_tiles_length = len(tile_size)/2\n",
    "\n",
    "for y in range(0, large_image.shape[0], tile_size[1]):\n",
    "    for x in range(0, large_image.shape[1], tile_size[0]): \n",
    "        region = large_image[y:y + tile_size[1], x:x + tile_size[0]]\n",
    "        region_avg_color = np.mean(region, axis=(0, 1))  \n",
    "        min_diffs = []  # List to store minimum differences\n",
    "        best_tiles = []\n",
    "        \n",
    "        for tile in tile_images:\n",
    "            tile_avg_color = np.mean(tile, axis=(0, 1))\n",
    "            color_diff = np.linalg.norm(region_avg_color - tile_avg_color)\n",
    "                    \n",
    "                    # Update min_diffs and best_tiles with top three minimum differences and corresponding tiles\n",
    "            if len(min_diffs) < 3:\n",
    "                min_diffs.append(color_diff)\n",
    "                best_tiles.append(tile)\n",
    "            else:\n",
    "                max_diff_index = min_diffs.index(max(min_diffs))\n",
    "                if color_diff < min_diffs[max_diff_index]:\n",
    "                    min_diffs[max_diff_index] = color_diff\n",
    "                    best_tiles[max_diff_index] = tile\n",
    "\n",
    "                # Randomly select one tile from the top three minimum differences\n",
    "        random_index = random.randint(0, 2)  # Random index between 0 and 2\n",
    "        best_tile = best_tiles[random_index]\n",
    "\n",
    "                # Add the selected tile to the used_tiles list\n",
    "        used_tiles.append(best_tile)\n",
    "\n",
    "                # Remove the oldest tile from used_tiles if necessary\n",
    "        if len(used_tiles) > used_tiles_length:\n",
    "            used_tiles.pop(0)\n",
    "        \n",
    "        blended_region = color_match_and_blend(region, crop_image(best_tile, crop_height=tile_size[1], crop_width=tile_size[0]))  \n",
    "        img_curr = imutils.resize(blended_region,width=region.shape[1], height=region.shape[0]) \n",
    "        mosaic[y:y + tile_size[1], x:x + tile_size[0]] = img_curr"
   ]
  },
  {
   "cell_type": "code",
   "execution_count": 7,
   "metadata": {},
   "outputs": [
    {
     "data": {
      "text/plain": [
       "True"
      ]
     },
     "execution_count": 7,
     "metadata": {},
     "output_type": "execute_result"
    }
   ],
   "source": [
    "cv2.imwrite('outputt6.jpeg', mosaic)"
   ]
  },
  {
   "cell_type": "code",
   "execution_count": 23,
   "metadata": {},
   "outputs": [
    {
     "data": {
      "image/png": "[encoded data removed]",
      "text/plain": [
       "<Figure size 640x480 with 1 Axes>"
      ]
     },
     "metadata": {},
     "output_type": "display_data"
    }
   ],
   "source": [
    "import matplotlib.pyplot as plt\n",
    "from matplotlib.patches import Rectangle\n",
    "\n",
    "def plot_tiles(rectangle_width, rectangle_height, num_horizontal_tiles, num_vertical_tiles):\n",
    "    # Calculate the width and height of each tile\n",
    "    tile_width = rectangle_width / num_horizontal_tiles\n",
    "    tile_height = rectangle_height / num_vertical_tiles\n",
    "\n",
    "    # Create a figure and axes\n",
    "    fig, ax = plt.subplots()\n",
    "\n",
    "    # Loop through horizontal and vertical tiles to plot each one\n",
    "    for i in range(num_horizontal_tiles):\n",
    "        for j in range(num_vertical_tiles):\n",
    "            x = i * tile_width\n",
    "            y = j * tile_height\n",
    "            box = Rectangle((x, y), tile_width, tile_height, linewidth=1, edgecolor='r', facecolor='none')\n",
    "            ax.add_patch(box)\n",
    "\n",
    "    # Set axis limits based on the rectangle dimensions\n",
    "    ax.set_xlim([0, rectangle_width])\n",
    "    ax.set_ylim([0, rectangle_height])\n",
    "\n",
    "    # Show the plot\n",
    "    plt.show()\n",
    "\n",
    "# Example usage:\n",
    "rectangle_width = 10  # Width of the rectangle\n",
    "rectangle_height = 8  # Height of the rectangle\n",
    "num_horizontal_tiles = 10  # Number of tiles horizontally\n",
    "num_vertical_tiles = 10  # Number of tiles vertically\n",
    "\n",
    "plot_tiles(rectangle_width, rectangle_height, num_horizontal_tiles, num_vertical_tiles)\n"
   ]
  },
  {
   "cell_type": "code",
   "execution_count": 1,
   "metadata": {},
   "outputs": [],
   "source": [
    "import cv2\n",
    "\n",
    "img = cv2.imread('large_image.jpeg')\n"
   ]
  },
  {
   "cell_type": "code",
   "execution_count": 3,
   "metadata": {},
   "outputs": [
    {
     "data": {
      "text/plain": [
       "(385, 686, 3)"
      ]
     },
     "execution_count": 3,
     "metadata": {},
     "output_type": "execute_result"
    }
   ],
   "source": [
    "img.shape"
   ]
  },
  {
   "cell_type": "code",
   "execution_count": 29,
   "metadata": {},
   "outputs": [],
   "source": [
    "import imutils\n",
    "\n",
    "def crop_image(image, crop_width, crop_height):\n",
    "    max_resize = max(crop_height, crop_width, image.shape[0],image.shape[1])\n",
    "    max_resize = 2 * max_resize\n",
    "\n",
    "    print(max_resize)\n",
    "    image = imutils.resize(image, width=max_resize)\n",
    "    print(image.shape)\n",
    "    # Calculate center coordinates\n",
    "    image_height, image_width = image.shape[:2]\n",
    "    center_x = image_width // 2\n",
    "    center_y = image_height // 2\n",
    "    \n",
    "    # Calculate half of the crop dimensions\n",
    "    half_crop_width = crop_width // 2\n",
    "    half_crop_height = crop_height // 2\n",
    "    \n",
    "    # Calculate crop boundaries\n",
    "    start_x = center_x - half_crop_width\n",
    "    end_x = center_x + half_crop_width\n",
    "    start_y = center_y - half_crop_height\n",
    "    end_y = center_y + half_crop_height\n",
    "    \n",
    "    # Crop the image from the center\n",
    "    cropped_image = image[start_y:end_y, start_x:end_x]\n",
    "    \n",
    "    return cropped_image"
   ]
  },
  {
   "cell_type": "code",
   "execution_count": 30,
   "metadata": {},
   "outputs": [
    {
     "name": "stdout",
     "output_type": "stream",
     "text": [
      "2000\n",
      "(1122, 2000, 3)\n"
     ]
    }
   ],
   "source": [
    "img_crop = crop_image(img, 1000, 1000)"
   ]
  },
  {
   "cell_type": "code",
   "execution_count": 31,
   "metadata": {},
   "outputs": [
    {
     "data": {
      "text/plain": [
       "(1000, 1000, 3)"
      ]
     },
     "execution_count": 31,
     "metadata": {},
     "output_type": "execute_result"
    }
   ],
   "source": [
    "img_crop.shape"
   ]
  },
  {
   "cell_type": "code",
   "execution_count": 32,
   "metadata": {},
   "outputs": [
    {
     "data": {
      "text/plain": [
       "True"
      ]
     },
     "execution_count": 32,
     "metadata": {},
     "output_type": "execute_result"
    }
   ],
   "source": [
    "cv2.imwrite('cropped2.jpg', img_crop)"
   ]
  }
 ],
 "metadata": {
  "kernelspec": {
   "display_name": "Python 3",
   "language": "python",
   "name": "python3"
  },
  "language_info": {
   "codemirror_mode": {
    "name": "ipython",
    "version": 3
   },
   "file_extension": ".py",
   "mimetype": "text/x-python",
   "name": "python",
   "nbconvert_exporter": "python",
   "pygments_lexer": "ipython3",
   "version": "3.11.6"
  }
 },
 "nbformat": 4,
 "nbformat_minor": 2
}
